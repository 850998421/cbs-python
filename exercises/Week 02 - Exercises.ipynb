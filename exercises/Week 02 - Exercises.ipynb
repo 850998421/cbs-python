{
 "metadata": {
  "name": "Week 02 - Exercises"
 },
 "nbformat": 3,
 "nbformat_minor": 0,
 "worksheets": [
  {
   "cells": [
    {
     "cell_type": "markdown",
     "metadata": {},
     "source": [
      "# Week 02 - Exercises"
     ]
    },
    {
     "cell_type": "markdown",
     "metadata": {},
     "source": [
      "## PART 1: Sequences"
     ]
    },
    {
     "cell_type": "markdown",
     "metadata": {},
     "source": [
      "<q>1. Assignments and operations</q>\n",
      "\n",
      "<qq>What is the difference between + and +=?</qq>\n"
     ]
    },
    {
     "cell_type": "code",
     "collapsed": false,
     "input": [
      "A = 1\n",
      "B = 4\n",
      "\n",
      "A + B\n",
      "A += B"
     ],
     "language": "python",
     "metadata": {},
     "outputs": []
    },
    {
     "cell_type": "raw",
     "metadata": {},
     "source": [
      "Answer: "
     ]
    },
    {
     "cell_type": "markdown",
     "metadata": {},
     "source": [
      "<q>2. Get comfortable with the new data structures</q>\n",
      "\n",
      "<qq>[Lists] Add comments to the script below describing what happens in each line</qq>"
     ]
    },
    {
     "cell_type": "code",
     "collapsed": false,
     "input": [
      "L = [1,2,3] + [4,5,6]\n",
      "L.reverse()\n",
      "print L\n",
      "L.sort()\n",
      "print L\n",
      "idx = L.index(4)\n",
      "print idx"
     ],
     "language": "python",
     "metadata": {},
     "outputs": []
    },
    {
     "cell_type": "markdown",
     "metadata": {},
     "source": [
      "<qq>[Dictionaries] Make a **list** of **dictionaries** of your top-3 favorite movies with the following structure:</qq>\n",
      "\n",
      "<ol>\n",
      "    <li></li>\n",
      "    <ul>\n",
      "        <li>\"Title\" : \"\"The Holy Grail\"</li>\n",
      "        <li>\"Genre\" : \"Comedy\"</li>\n",
      "        <li>\"Year\" : 1975</li>\n",
      "        <li>\"Length\" : 91</li>\n",
      "        <li>\"Directors\" : [\"Terry Gilliam\", \"Terry Jones\"]</li>\n",
      "        <li>\"Stars\" : [\"Graham Chapman\", \"John Cleese\", \"Eric Idle\"]</li>\n",
      "    </ul>\n",
      "    <li></li>\n",
      "    ...\n",
      "</ol>"
     ]
    },
    {
     "cell_type": "code",
     "collapsed": false,
     "input": [
      "movies = [] # finish this code"
     ],
     "language": "python",
     "metadata": {},
     "outputs": []
    },
    {
     "cell_type": "markdown",
     "metadata": {},
     "source": [
      "<qq>Go through each of the three movies and print the title, year and genre *using only two lines of code*.</qq>"
     ]
    },
    {
     "cell_type": "code",
     "collapsed": false,
     "input": [],
     "language": "python",
     "metadata": {},
     "outputs": []
    },
    {
     "cell_type": "markdown",
     "metadata": {},
     "source": [
      "The output should look something like this:"
     ]
    },
    {
     "cell_type": "raw",
     "metadata": {},
     "source": [
      "The Holy Grail, 1975, Comedy\n",
      "The Life of Brian, 1979, Comedy\n",
      "The Meaning of Life, 1983, Comedy"
     ]
    },
    {
     "cell_type": "markdown",
     "metadata": {},
     "source": [
      "<q>3. Slice and dice</q>\n",
      "In Python we used the index to access a item of a collection. Python can also access a range of items of collections using slicing. \n",
      "\n",
      "Instead of \n",
      "\n",
      "    collection[5]\n",
      "\n",
      "to access the 6'th element, we can use\n",
      "\n",
      "    collection[3:5]\n",
      "\n",
      "\n",
      "to access the 4'th and 5'th item of a sequence. The following figure shows how the slicing index is translated into ranges:\n",
      "\n",
      "\n",
      "<center>\n",
      "<img src=\"http://infohost.nmt.edu/tcc/help/pubs/python/web/fig/slicing.png\" width=\"250px\" />\n",
      "</center>\n",
      "\n",
      "In this exercise we try it out. Use this table for assistance:\n",
      "<center>\n",
      "<table>\n",
      "    <tr><td><b>Expression</b></td><td><b>Returns</b></td></tr>\n",
      "    <tr><td>seq[i:j]</td><td>Elements of *seq* from *i* to, but not including *j*</td></tr>\n",
      "    <tr><td>seq[i:]</td><td>Elements of *seq* from *i* through the end of the sequence</td></tr>\n",
      "    <tr><td>seq[:j]</td><td>Elements of *seq* from the first up to, but not including *j*</td></tr>\n",
      "    <tr><td>seq[:-1]</td><td>Elements of *seq* from the first up to, but not including the last</td></tr>\n",
      "    <tr><td>seq[:]</td><td>All the elements of *seq* - i.e. a copy of *seq*</td></tr>\n",
      "    <tr><td>seq[i:j:k]</td><td>Every k<sup>th</sup> element of *seq*, from i up to, but not including *j*</td></tr>\n",
      "</table>\n",
      "</center>\n",
      "\n",
      "We have a protein sequence: "
     ]
    },
    {
     "cell_type": "code",
     "collapsed": false,
     "input": [
      "prot_seq = \"MKWVTFISLLFLFSSAYSRGVFRRDAHKSEVAHRFKDLGEENFKALVLIAFA\""
     ],
     "language": "python",
     "metadata": {},
     "outputs": []
    },
    {
     "cell_type": "markdown",
     "metadata": {},
     "source": [
      "<qq>3.1 Obtain the signal peptide sequence of prot_seq, which is the first 18 amino acids</qq>"
     ]
    },
    {
     "cell_type": "code",
     "collapsed": false,
     "input": [],
     "language": "python",
     "metadata": {},
     "outputs": []
    },
    {
     "cell_type": "heading",
     "level": 3,
     "metadata": {},
     "source": [
      "<qq>3.2 Obtain the middle part of the protein from amino acid position 22 to 36</qq>"
     ]
    },
    {
     "cell_type": "code",
     "collapsed": false,
     "input": [],
     "language": "python",
     "metadata": {},
     "outputs": []
    },
    {
     "cell_type": "markdown",
     "metadata": {},
     "source": [
      "<qq>3.3 Obtain the last 12 amino acids using two different methods of slicing </qq>"
     ]
    },
    {
     "cell_type": "code",
     "collapsed": false,
     "input": [],
     "language": "python",
     "metadata": {},
     "outputs": []
    },
    {
     "cell_type": "code",
     "collapsed": false,
     "input": [],
     "language": "python",
     "metadata": {},
     "outputs": []
    },
    {
     "cell_type": "markdown",
     "metadata": {},
     "source": [
      "<qq>3.4 Obtain every second amino acid of the protein sequence using slicing</qq>"
     ]
    },
    {
     "cell_type": "code",
     "collapsed": false,
     "input": [],
     "language": "python",
     "metadata": {},
     "outputs": []
    },
    {
     "cell_type": "markdown",
     "metadata": {},
     "source": [
      "<qq>3.4 Reverse the sequence using slicing</qq>\n",
      "**Hint:** *Set the step to -1*"
     ]
    },
    {
     "cell_type": "code",
     "collapsed": false,
     "input": [],
     "language": "python",
     "metadata": {},
     "outputs": []
    },
    {
     "cell_type": "markdown",
     "metadata": {},
     "source": [
      "<q>4. Playing with strings</q>"
     ]
    },
    {
     "cell_type": "markdown",
     "metadata": {},
     "source": [
      "Strings has alot of built in functions. In this exercise we will explore some of the most common features. "
     ]
    },
    {
     "cell_type": "code",
     "collapsed": false,
     "input": [
      "signal_peptide = \"maskatllclaftllfatcia\""
     ],
     "language": "python",
     "metadata": {},
     "outputs": []
    },
    {
     "cell_type": "markdown",
     "metadata": {},
     "source": [
      "A list of functions associated with the string *signal_peptide* can be found by writing signal_peptide followed by a dot (.) and then hitting the <kbd>Tab</kbd> key to ask for auto-complete suggestions."
     ]
    },
    {
     "cell_type": "markdown",
     "metadata": {},
     "source": [
      "    signal_peptide.<hit-tab>"
     ]
    },
    {
     "cell_type": "markdown",
     "metadata": {},
     "source": [
      "Another way is to use the dir() function around signal_peptide:\n",
      "\n",
      "    dir(signal_peptide)\n",
      "\n",
      "Use either of these methods to find the suited functions for the following questions: "
     ]
    },
    {
     "cell_type": "markdown",
     "metadata": {},
     "source": [
      "<qq>4.1 Obtain a uppercase version of *signal_peptide*</qq>"
     ]
    },
    {
     "cell_type": "code",
     "collapsed": false,
     "input": [
      "signal_peptide.upper()"
     ],
     "language": "python",
     "metadata": {},
     "outputs": []
    },
    {
     "cell_type": "markdown",
     "metadata": {},
     "source": [
      "<qq>4.2 Obtain the amino acid position of the first occurrance of Cysteine</qq>"
     ]
    },
    {
     "cell_type": "code",
     "collapsed": false,
     "input": [],
     "language": "python",
     "metadata": {},
     "outputs": []
    },
    {
     "cell_type": "markdown",
     "metadata": {},
     "source": [
      "<qq>4.3 Print a deriving sequence where the part *\"laftl\"* is replaced with *\"alftlg\"*"
     ]
    },
    {
     "cell_type": "code",
     "collapsed": false,
     "input": [],
     "language": "python",
     "metadata": {},
     "outputs": []
    },
    {
     "cell_type": "markdown",
     "metadata": {},
     "source": [
      "<qq>4.4 Find the GC content in the following sequence</qq>"
     ]
    },
    {
     "cell_type": "code",
     "collapsed": false,
     "input": [
      "dna_sequence = \"TGCGTAGACGTGAGTAAAATGCATAAATAACTAGGFCG\""
     ],
     "language": "python",
     "metadata": {},
     "outputs": []
    },
    {
     "cell_type": "code",
     "collapsed": false,
     "input": [],
     "language": "python",
     "metadata": {},
     "outputs": []
    },
    {
     "cell_type": "markdown",
     "metadata": {},
     "source": [
      "**hint:** <i>Use len(dna_sequence) to get the length of the sequence</i>"
     ]
    },
    {
     "cell_type": "markdown",
     "metadata": {},
     "source": [
      "<q>X. Membership testing and sequence validation</q>\n",
      "In Python you can use list comprehensions to create a list B from a list A:\n",
      "    \n",
      "    B = [expression for item in list]\n",
      "    B = [x^2 for x in A]\n",
      "\n",
      "The last bit\n",
      "    \n",
      "    item in list\n",
      "\n",
      "can also be used to test for the membership of the value x in a list. For instance:\n"
     ]
    },
    {
     "cell_type": "code",
     "collapsed": false,
     "input": [
      "2 in [1,2,3,4]"
     ],
     "language": "python",
     "metadata": {},
     "outputs": []
    },
    {
     "cell_type": "markdown",
     "metadata": {},
     "source": [
      "will return True if the number 2 is found in the list. Here is another example using membership testing for base validation:"
     ]
    },
    {
     "cell_type": "code",
     "collapsed": false,
     "input": [
      "valid_base = \"UCAG\"\n",
      "print \"C\" in valid_base\n",
      "print \"G\" in valid_base\n",
      "print \"A\" in valid_base\n",
      "print \"T\" in valid_base"
     ],
     "language": "python",
     "metadata": {},
     "outputs": []
    },
    {
     "cell_type": "markdown",
     "metadata": {},
     "source": [
      "<qq>X.1 Make a program that validates base sequences of RNA using a list comprehension.</qq>\n",
      "\n",
      "Combine list comprehensions\n",
      "\n",
      "    [expression for item in collection]\n",
      "\n",
      "and membership testing\n",
      "\n",
      "    value in collection\n",
      "\n",
      "to validate that these two sequences are RNA:"
     ]
    },
    {
     "cell_type": "code",
     "collapsed": false,
     "input": [
      "base_seqA = \"ACGAGCUG\"\n",
      "base_seqB = \"ACTGTCGA\"\n",
      "\n",
      "# put your code into the brackets below:\n",
      "\n",
      "print all ( [] ) \n",
      "print all ( [] ) "
     ],
     "language": "python",
     "metadata": {},
     "outputs": []
    },
    {
     "cell_type": "markdown",
     "metadata": {},
     "source": [
      "**Note:** *The function*\n",
      "\n",
      "    all(list)\n",
      "\n",
      "*will return True if all items in the list is true*:"
     ]
    },
    {
     "cell_type": "code",
     "collapsed": false,
     "input": [
      "print all( [True, True, True] )\n",
      "print all( [True, True, False] )"
     ],
     "language": "python",
     "metadata": {},
     "outputs": []
    },
    {
     "cell_type": "markdown",
     "metadata": {},
     "source": [
      "<q> Python and memory handling </q>\n",
      "This exercise will show you the difference between referencing to an object and copying an object. \n",
      "\n",
      "<qq> Make a list *A* of 20 zeroes using the * operator </qq>"
     ]
    },
    {
     "cell_type": "code",
     "collapsed": false,
     "input": [
      "A = []\n",
      "A"
     ],
     "language": "python",
     "metadata": {},
     "outputs": []
    },
    {
     "cell_type": "markdown",
     "metadata": {},
     "source": [
      "<qq> Change the 11<sup>th</sup> value to 1 and print the entire list to screen</qq> "
     ]
    },
    {
     "cell_type": "code",
     "collapsed": false,
     "input": [],
     "language": "python",
     "metadata": {},
     "outputs": []
    },
    {
     "cell_type": "markdown",
     "metadata": {},
     "source": [
      "Output should look like"
     ]
    },
    {
     "cell_type": "raw",
     "metadata": {},
     "source": [
      "[0, 0, 0, 0, 0, 0, 0, 0, 0, 0, 1, 0, 0, 0, 0, 0, 0, 0, 0, 0]"
     ]
    },
    {
     "cell_type": "markdown",
     "metadata": {},
     "source": [
      "<qq> Make a 5x3 matrix (list of lists) of zeroes using the same terminology</qq>\n",
      "\n",
      "<table>\n",
      "    <tr><td>0</td><td>0</td><td>0</td><td>0</td><td>0</td></tr>\n",
      "    <tr><td>0</td><td>0</td><td>0</td><td>0</td><td>0</td></tr>\n",
      "    <tr><td>0</td><td>0</td><td>0</td><td>0</td><td>0</td></tr>\n",
      "</table>"
     ]
    },
    {
     "cell_type": "code",
     "collapsed": false,
     "input": [
      "B = []\n",
      "B"
     ],
     "language": "python",
     "metadata": {},
     "outputs": []
    },
    {
     "cell_type": "markdown",
     "metadata": {},
     "source": [
      "Output should look like:"
     ]
    },
    {
     "cell_type": "raw",
     "metadata": {},
     "source": [
      "[[0, 0, 0, 0, 0], [0, 0, 0, 0, 0], [0, 0, 0, 0, 0]]"
     ]
    },
    {
     "cell_type": "markdown",
     "metadata": {},
     "source": [
      "<qq>Change the 3<sup>rd</sup> element in the 2<sup>nd</sup> list to 1. Print the list B to the screen </qq>\n",
      "\n",
      "<table>\n",
      "    <tr><td>0</td><td>0</td><td>0</td><td>0</td><td>0</td></tr>\n",
      "    <tr><td>0</td><td>0</td><td>1</td><td>0</td><td>0</td></tr>\n",
      "    <tr><td>0</td><td>0</td><td>0</td><td>0</td><td>0</td></tr>\n",
      "</table>"
     ]
    },
    {
     "cell_type": "code",
     "collapsed": false,
     "input": [],
     "language": "python",
     "metadata": {},
     "outputs": []
    },
    {
     "cell_type": "markdown",
     "metadata": {},
     "source": [
      "<qq>Why doesn't it work? Use this picture for help</qq>\n",
      "\n",
      "<img src=\"files/images/ex2_lists.svg\" />"
     ]
    },
    {
     "cell_type": "raw",
     "metadata": {},
     "source": [
      "    Answer: "
     ]
    },
    {
     "cell_type": "markdown",
     "metadata": {},
     "source": [
      "<qq>Use list comprehensions to fix the problem </qq>\n",
      "\n",
      "This is the correct way of generating a \"matrix\" in python:\n",
      "\n",
      "**Note:** *range(3) is a standard Python function that generates a list [0,1,2]*"
     ]
    },
    {
     "cell_type": "code",
     "collapsed": false,
     "input": [
      "C = [[0]*5 for i in range(3)]\n",
      "C"
     ],
     "language": "python",
     "metadata": {},
     "outputs": []
    },
    {
     "cell_type": "markdown",
     "metadata": {},
     "source": [
      "This way we don't use any \\* operation on a list containing more than 1 item. "
     ]
    },
    {
     "cell_type": "markdown",
     "metadata": {},
     "source": [
      "<qq>Now change the the value of the 3<sup>rd</sup> element in the 2<sup>nd</sup> list to \"SUCCESS\""
     ]
    },
    {
     "cell_type": "code",
     "collapsed": false,
     "input": [],
     "language": "python",
     "metadata": {},
     "outputs": []
    },
    {
     "cell_type": "markdown",
     "metadata": {},
     "source": [
      "Hopefully tou got:"
     ]
    },
    {
     "cell_type": "raw",
     "metadata": {},
     "source": [
      "[[0, 0, 0, 0, 0], [0, 0, 'SUCCESS', 0, 0], [0, 0, 0, 0, 0]]"
     ]
    },
    {
     "cell_type": "markdown",
     "metadata": {},
     "source": [
      "## Pandas DataFrames"
     ]
    },
    {
     "cell_type": "markdown",
     "metadata": {},
     "source": [
      "Lets be a little more familiar with Pandas"
     ]
    },
    {
     "cell_type": "code",
     "collapsed": false,
     "input": [
      "ls ../data/weather*"
     ],
     "language": "python",
     "metadata": {},
     "outputs": [
      {
       "output_type": "stream",
       "stream": "stdout",
       "text": [
        "\u001b[0m\u001b[00m../data/weather_year.csv\u001b[0m\r\n"
       ]
      }
     ],
     "prompt_number": 10
    },
    {
     "cell_type": "code",
     "collapsed": false,
     "input": [
      "import pandas"
     ],
     "language": "python",
     "metadata": {},
     "outputs": [],
     "prompt_number": 5
    },
    {
     "cell_type": "markdown",
     "metadata": {},
     "source": [
      "The following line reads in a CSV (comma-seperated-values) file from our data directory. Make sure you understand the command"
     ]
    },
    {
     "cell_type": "code",
     "collapsed": false,
     "input": [
      "data = pandas.read_csv(\"../data/weather_year.csv\")"
     ],
     "language": "python",
     "metadata": {},
     "outputs": [],
     "prompt_number": 11
    },
    {
     "cell_type": "markdown",
     "metadata": {},
     "source": [
      "---\n"
     ]
    },
    {
     "cell_type": "code",
     "collapsed": false,
     "input": [
      "from IPython.core.display import HTML\n",
      "\n",
      "\n",
      "def css_styling():\n",
      "    styles = open(\"../styles/custom.css\", \"r\").read()\n",
      "    return HTML(styles)\n",
      "css_styling()"
     ],
     "language": "python",
     "metadata": {},
     "outputs": [
      {
       "html": [
        "<style>\n",
        "    div.cell{\n",
        "        width:800px;\n",
        "        margin-left:16% !important;\n",
        "        margin-right:auto;\n",
        "    }\n",
        "    div.text_cell_render{\n",
        "        font-family: \"Helvetica Neue\", Arial, Helvetica, Geneva, sans-serif;\n",
        "        line-height: 145%;\n",
        "        font-size: 100%;\n",
        "        width:800px;\n",
        "        margin-left:auto;\n",
        "        margin-right:auto;\n",
        "    }\n",
        "    .CodeMirror{\n",
        "            font-family: \"Source Code Pro\", source-code-pro,Consolas, monospace;\n",
        "    }\n",
        "    div.CodeMirror{\n",
        "    \tfont-size: 11pt;\n",
        "    }\n",
        "    div.cell.border-box-sizing.code_cell{\n",
        "    \tpadding-left: 50px;\n",
        "    }\n",
        "    div.text_cell_input {\n",
        "    \tmargin-left: 50px;\n",
        "    }\n",
        "    .prompt{\n",
        "        display: None;\n",
        "    }\n",
        "    .text_cell_render h1 {\n",
        "        font-family: Helvetica, serif;\n",
        "        font-size: 30pt;\n",
        "        color: #274257;\n",
        "        text-transform: uppercase;\n",
        "        line-height: 100%;\n",
        "    }\n",
        "    .text_cell_render h2 {\n",
        "    \tmargin-top: 35px;\n",
        "        font-family: Helvetica, serif;\n",
        "        font-size: 24pt;\n",
        "        color: #2A75A9;\n",
        "        line-height: 100%;\n",
        "    }\n",
        "    .text_cell_render h3{\n",
        "    \tmargin-top: 35px;\n",
        "        font-family: Helvetica, serif;\n",
        "        font-size: 18pt;\n",
        "        color: #7EB5D6;\n",
        "        line-height: 100%;\n",
        "       }\n",
        "    .text_cell_render h4{\n",
        "    \tmargin-top: 35px;\n",
        "    \tfont-family: Helvetica, serif;\n",
        "        font-size: 14pt;\n",
        "        line-height: 100%;\n",
        "    }\n",
        "    .text_cell_render h5 {\n",
        "        font-weight: 300;\n",
        "        font-size: 22pt;\n",
        "        color: #4057A1;\n",
        "        font-style: italic;\n",
        "        margin-bottom: .5em;\n",
        "        margin-top: 0.5em;\n",
        "        display: block;\n",
        "        line-height: 100%;\n",
        "    }\n",
        "    \n",
        "    .warning{\n",
        "        color: rgb( 240, 20, 20 )\n",
        "        } \n",
        "    .wds {\n",
        "        background: none repeat scroll 0% 0% rgb(247, 247, 247);\n",
        "        padding: 0em 0em;\n",
        "        font-size: 11px;\n",
        "        font-family: Arial,Helvetica,sans-serif;\n",
        "        display: inline-block;\n",
        "        margin: 0px 0em;\n",
        "        white-space: nowrap;\n",
        "    }\n",
        "    cb {\n",
        "        background: none repeat scroll 0% 0% rgb(247, 247, 247);\n",
        "        padding: 0.1em 0.6em;\n",
        "        border: 1px solid rgb(204, 204, 204);\n",
        "        font-size: 11pt;\n",
        "        font-family: \"Source Code Pro\", source-code-pro,Consolas, monospace;\n",
        "        color: rgb(51, 51, 51);\n",
        "        box-shadow: 0px 1px 0px rgba(0, 0, 0, 0.2), 0px 0px 0px 2px rgb(255, 255, 255) inset;\n",
        "        border-radius: 3px 3px 3px 3px;\n",
        "        display: inline-block;\n",
        "        margin: 0px 0.1em;\n",
        "        line-height: 1.4;\n",
        "        white-space: nowrap;\n",
        "    }\n",
        "    q {\t\n",
        "        font-weight: 300;\n",
        "        font-size: 14pt;\n",
        "        color: #4057A1;\n",
        "        margin-bottom: .5em;\n",
        "        margin-top: 0.5em;\n",
        "        display: block;\n",
        "        font-family: \"Helvetica Neue\", Arial, Helvetica, Geneva, sans-serif;\n",
        "        line-height: 145%;\n",
        "        width:800px;\n",
        "        margin-left:auto;\n",
        "        margin-right:auto;\n",
        "    }\n",
        "    qq {\t\n",
        "        font-weight: 300;\n",
        "        font-size: 11pt;\n",
        "        color: #4057A1;\n",
        "        margin-bottom: .5em;\n",
        "        margin-top: 0.5em;\n",
        "        display: block;\n",
        "        font-family: \"Helvetica Neue\", Arial, Helvetica, Geneva, sans-serif;\n",
        "        line-height: 145%;\n",
        "        width:800px;\n",
        "        margin-left:auto;\n",
        "        margin-right:auto;\n",
        "    }\n",
        "    kbd {\n",
        "        background: none repeat scroll 0% 0% rgb(247, 247, 247);\n",
        "        padding: 0.1em 0.6em;\n",
        "        border: 1px solid rgb(204, 204, 204);\n",
        "        font-size: 11px;\n",
        "        font-family: Arial,Helvetica,sans-serif;\n",
        "        color: rgb(51, 51, 51);\n",
        "        box-shadow: 0px 1px 0px rgba(0, 0, 0, 0.2), 0px 0px 0px 2px rgb(255, 255, 255) inset;\n",
        "        border-radius: 3px 3px 3px 3px;\n",
        "        display: inline-block;\n",
        "        margin: 0px 0.1em;\n",
        "        text-shadow: 0px 1px 0px rgb(255, 255, 255);\n",
        "        line-height: 1.4;\n",
        "        white-space: nowrap;\n",
        "    }\n",
        "    ol {\n",
        "        list-style-type: decimal;\n",
        "    }\n",
        "\n",
        "\t.box_rotate {\n",
        "\t\t  -webkit-transform: rotate(270deg);  /* Chrome, Safari 3.1+ */\n",
        "\t\t     -moz-transform: rotate(270deg);  /* Firefox 3.5-15 */\n",
        "\t\t      -ms-transform: rotate(270deg);  /* IE 9 */\n",
        "\t\t       -o-transform: rotate(270deg);  /* Opera 10.50-12.00 */\n",
        "\t\t          transform: rotate(270deg);  /* Firefox 16+, IE 10+, Opera 12.10+ */\n",
        "\t}\n",
        "\n",
        "\t.vertical-text {\n",
        "\t\tdisplay: inline-block;\n",
        "\t\toverflow: hidden;\n",
        "\t\twidth: 1.5em;\n",
        "\t}\n",
        "\n",
        "\t.vertical-text__inner {\n",
        "\t\tdisplay: inline-block;\n",
        "\t\twhite-space: nowrap;\n",
        "\t\tline-height: 1.5;\n",
        "\t\t  -webkit-transform: rotate(270deg);  /* Chrome, Safari 3.1+ */\n",
        "\t\t     -moz-transform: rotate(270deg);  /* Firefox 3.5-15 */\n",
        "\t\t      -ms-transform: rotate(270deg);  /* IE 9 */\n",
        "\t\t       -o-transform: rotate(270deg);  /* Opera 10.50-12.00 */\n",
        "\t\t          transform: rotate(270deg);  /* Firefox 16+, IE 10+, Opera 12.10+ */\n",
        "\t}\n",
        "\n",
        "\t.vertical-text__inner:after {\n",
        "\t\tcontent: \"\";\n",
        "\t\tdisplay: block;\n",
        "\t\tmargin: -1.5em 0 100%;\n",
        "\t}\n",
        "\n",
        "\t.topics{\n",
        "\t\tbackground: url('files/images/topics.svg') no-repeat scroll 0% 0%; \n",
        "\t\twidth: 520px; \n",
        "\t\theight: 250px; \n",
        "\n",
        "\t\tpadding-top: 35px;\n",
        "\t}\n",
        "\n",
        "</style>\n",
        "<script>\n",
        "    MathJax.Hub.Config({\n",
        "                        TeX: {\n",
        "                           extensions: [\"AMSmath.js\"]\n",
        "                           },\n",
        "                tex2jax: {\n",
        "                    inlineMath: [ ['$','$'], [\"\\\\(\",\"\\\\)\"] ],\n",
        "                    displayMath: [ ['$$','$$'], [\"\\\\[\",\"\\\\]\"] ]\n",
        "                },\n",
        "                displayAlign: 'center', // Change this to 'center' to center equations.\n",
        "                \"HTML-CSS\": {\n",
        "                    styles: {'.MathJax_Display': {\"margin\": 4}}\n",
        "                }\n",
        "        });\n",
        "</script>\n"
       ],
       "output_type": "pyout",
       "prompt_number": 4,
       "text": [
        "<IPython.core.display.HTML at 0x22097d0>"
       ]
      }
     ],
     "prompt_number": 4
    },
    {
     "cell_type": "code",
     "collapsed": false,
     "input": [],
     "language": "python",
     "metadata": {},
     "outputs": []
    }
   ],
   "metadata": {}
  }
 ]
}