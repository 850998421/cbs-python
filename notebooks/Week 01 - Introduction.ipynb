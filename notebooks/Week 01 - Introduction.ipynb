{
 "metadata": {
  "name": "Week 01 - Introduction"
 },
 "nbformat": 3,
 "nbformat_minor": 0,
 "worksheets": [
  {
   "cells": [
    {
     "cell_type": "markdown",
     "metadata": {},
     "source": [
      "# Introduction to python\n",
      "<center>\n",
      "<img src=\"https://lh5.googleusercontent.com/-05BdNvMlZxg/Uan4bzk0FuI/AAAAAAAAFc0/B0U3lqI9gBA/w800-h800/FlyingPython.png\" width=\"400px\"/>\n",
      "</center>\n",
      "## The role of computing in science\n",
      "\n",
      "Science has traditionally been divided into experimental and theoretical disciplines, but during the last several decades computing has emerged as a very important part of science. Scientific computing is often closely related to theory, but it also has many characteristics in common with experimental work. It is therefore often viewed as a new third branch of science. In most fields of science, computational work is an important complement to both experiments and theory, and nowadays a vast majority of both experimental and theoretical papers involve some numerical calculations, simulations or computer modeling.\n",
      "\n",
      "<center>\n",
      "    <img src=\"files/images/theory-experiment-computation.svg\" width=\"300\">   \n",
      "</center>\n",
      "\n",
      "### When do I need to use computing in science?\n",
      "**Replication** and **reproducibility** are two of the cornerstones in the scientific method. With respect to numerical work, complying with these concepts have the following practical implications:\n",
      "\n",
      "* Replication: An author of a scientific paper that involves numerical calculations should be able to reproduce the results upon request. \n",
      "\n",
      "* Reproducibility: Other scientists should be able to perform the same numerical simulations and get the same results, given the information about the methods used in a publication.\n",
      "\n",
      "\n",
      "To achieve these goals, we need to:\n",
      "\n",
      "* Keep and take note on *exactly* which source code and version that was used to produce data and figures in published papers.\n",
      "\n",
      "* Record information of which version of external software that was used. Keep access to the environment that was used.\n",
      "\n",
      "* Make sure that old codes and notes are backed up and kept for future reference. \n",
      "\n",
      "* Be ready to give additional information about the methods used, and perhaps also the simulation codes, to an interested reader who requests it (even years after the paper was published!).\n",
      "\n",
      "* Ideally codes should be published online, to make it easier for other scientists interested in the codes to access it.\n",
      "\n",
      "\n",
      "## What is python?\n",
      "[Python](http://www.python.org/) is a modern, general-purpose, object-oriented, high-level programming language.\n",
      "\n",
      "General characteristics of Python:\n",
      "\n",
      "* **clean and simple language:** Easy-to-read and intuitive code, easy-to-learn minimalistic syntax, maintainability scales well with size of projects.\n",
      "* **expressive language:** Fewer lines of code, fewer bugs, easier to maintain.\n",
      "\n",
      "Technical details:\n",
      "\n",
      "* **dynamically typed:** No need to define the type of variables, function arguments or return types.\n",
      "* **automatic memory management:** No need to explicitly allocate and deallocate memory for variables and data arrays. No memory leak bugs. \n",
      "* **interpreted:** No need to compile the code. The Python interpreter reads and executes the python code directly.\n",
      "\n",
      "Advantages:\n",
      "\n",
      "* The main advantage is ease of programming, minimizing the time required to develop, debug and maintain the code.\n",
      "* Well designed language that encourage many good programming practices:\n",
      " * Modular and object-oriented programming, good system for packaging and re-use of code. This often results in more transparent, maintainable and bug-free code.\n",
      " * Documentation tightly integrated with the code.\n",
      "* A large standard library, and a large collection of add-on packages.\n",
      "\n",
      "Disadvantages:\n",
      "\n",
      "* Since Python is an interpreted and dynamically typed programming language, the execution of python code can be slow compared to compiled statically typed programming languages, such as C and Fortran. \n",
      "* Somewhat decentralized, with different environment, packages and documentation spread out at different places. Can make it harder to get started.\n",
      "\n",
      "####TIOBE Programming Community Index\n",
      "The TIOBE Programming Community index is an indicator of the popularity of programming languages. The index is updated once a month. The ratings are based on the number of skilled engineers world-wide, courses and third party vendors. The popular search engines Google, Bing, Yahoo!, Wikipedia, Amazon, YouTube and Baidu are used to calculate the ratings. Observe that the TIOBE index is not about the best programming language or the language in which most lines of code have been written.\n",
      "<center>\n",
      "<img src=\"http://www.tiobe.com/content/paperinfo/tpci/images/tpci_trends.png\"/>\n",
      "</center>\n",
      "\n",
      "### What makes python suitable for scientific computing?\n",
      "\n",
      "<img src=\"https://raw.github.com/jrjohansson/scientific-python-lectures/master/images/optimizing-what.png\" width=\"600\">\n",
      "\n",
      "* Python has a strong position in scientific computing: \n",
      "    * Large community of users, easy to find help and documentation.\n",
      "\n",
      "* Extensive ecosystem of scientific libraries and environments\n",
      "    * numpy: http://numpy.scipy.org - Numerical Python\n",
      "    * scipy: http://www.scipy.org -  Scientific Python\n",
      "    * matplotlib: http://www.matplotlib.org - graphics library\n",
      "    * biopython: http://biopython.org - Biological libraries\n",
      "\n",
      "* Great performance due to close integration with time-tested and highly optimized codes written in C and Fortran:\n",
      "    * Using in-built functions can really boost performance"
     ]
    },
    {
     "cell_type": "markdown",
     "metadata": {},
     "source": [
      "## Python Environments\n",
      "There are also many different environments through which the python interpreter can be used. Each environment have different advantages and is suitable for different workflows. One strength of python is that it versatile and can be used in complementary ways, but it can be confusing for beginners so we will start with a brief survey of python environments that are useful for scientific computing.\n",
      "\n",
      "<p></p>\n",
      "\n",
      "\n",
      "#### Python enterpreter\n",
      "\n",
      "The standard way to use the Python programming language is to use the Python interpreter to run python code. The python interpreter is a program that read and execute the python code in files passed to it as arguments. At the command prompt, the command ``python`` is used to invoke the Python interpreter.\n",
      "\n",
      "For example, to run a file <cb>my-program.py</cb> that contains python code from the command prompt, use:\n",
      "\n",
      "<cb>python my-program.py</cb>\n",
      "\n",
      "We can also start the interpreter by simply typing <cb>python</cb> at the command line, and interactively type python code into the interpreter. \n",
      "\n",
      "<center>\n",
      "<img src=\"files/images/python_prompt.png\" width=\"600px\"/>\n",
      "</center>\n",
      "\n",
      "<p></p>\n",
      "#### IPython\n",
      "IPython is an interactive shell that addresses the limitation of the standard python interpreter, and it is a work-horse for scientific use of python. It provides an interactive prompt to the python interpreter with a greatly improved user-friendliness.\n",
      "\n",
      "<center>\n",
      "<img src=\"files/images/ipython_prompt.png\" width=\"600px\"/>\n",
      "</center>\n",
      "\n",
      "Some of the many useful features of IPython includes:\n",
      "\n",
      "* Command history, which can be browsed with the up and down arrows on the keyboard.\n",
      "* Tab auto-completion.\n",
      "* In-line editing of code.\n",
      "* Object introspection, and automatic extract of documentation strings from python objects like classes and functions.\n",
      "* Good interaction with operating system shell.\n",
      "* Support for multiple parallel back-end processes, that can run on computing clusters or cloud services like Amazon EE2.\n",
      "\n",
      "#### IPython Notebook\n",
      "\n",
      "IPython notebook is an HTML-based notebook environment for Python, similar to Mathematica or Maple. It is based the IPython shell, but provides a cell-based environment with great interactivity, where calculations can be organized documented in a structured way.\n",
      "\n",
      "<img src=\"files/images/notebook.png\" width=\"800\" />\n",
      "\n",
      "Although using the a web browser as graphical interface, IPython notebooks are usually run locally, from the same computer that run the browser. To start a new IPython notebook session, run the following command:\n",
      "\n",
      "<cb>ipython notebook</cb>\n",
      "\n",
      "from a directory where you want the notebooks to be stored. This will open a new browser window (or a new tab in an existing window) with an index page where existing notebooks are shown and from which new notebooks can be created.\n",
      "<p></p>\n",
      "\n",
      "#### Komodo and sublime-text\n",
      "\n",
      "Komodo and Sublime-Text are feature-rich editors made for multiple languages (not just python). They are both highly extensible and both have a large repitoire of plugins and packages. It doesn't include built-in python entepreters but offers a minimilistic experience when programming which can be quite productive in itself. \n",
      "\n",
      "<img src=\"files/images/komodo.png\" width=800px />\n",
      "\n",
      "<p></p>\n",
      "\n",
      "<img src=\"files/images/sublime.png\" width=800px />\n",
      "\n",
      "<p></p>\n",
      "\n",
      "#### Spyder\n",
      "\n",
      "Spyder is a MATLAB-like IDE for scientific computing with python. It has the many advantages of a traditional IDE environment, for example that everything from code editing, execution and debugging is carried out in a single environment, and work on different calculations can be organized as projects in the IDE environment.\n",
      "\n",
      "If you are coming from MATLAB or something similar this is a good editor to start with.\n",
      "\n",
      "<img src=\"files/images/spyder.png\" width=\"800px\" />"
     ]
    },
    {
     "cell_type": "markdown",
     "metadata": {},
     "source": [
      "## Let's get started: Our first python code: "
     ]
    },
    {
     "cell_type": "code",
     "collapsed": false,
     "input": [
      "print 12 + 14\n",
      "A = 12\n",
      "B = 14\n",
      "print A + B"
     ],
     "language": "python",
     "metadata": {},
     "outputs": []
    },
    {
     "cell_type": "markdown",
     "metadata": {},
     "source": [
      "Python programs are read as a recipe:"
     ]
    },
    {
     "cell_type": "code",
     "collapsed": false,
     "input": [
      "# INGREDIENTS\n",
      "\n",
      "sequence = \"agcttgca\" # assigment of a string to \"sequence\"\n",
      "\n",
      "compliment = {} # assigment of a dictionary to \"compliment\"\n",
      "compliment[\"a\"] = \"t\" \n",
      "compliment[\"t\"] = \"a\" \n",
      "compliment[\"c\"] = \"g\"\n",
      "compliment[\"g\"] = \"c\"\n",
      "\n",
      "# RECIPE\n",
      "\n",
      "for nucleotide in sequence:\n",
      "    print compliment[nucleotide], "
     ],
     "language": "python",
     "metadata": {},
     "outputs": [
      {
       "output_type": "stream",
       "stream": "stdout",
       "text": [
        "t c g a a c g t\n"
       ]
      }
     ],
     "prompt_number": 6
    },
    {
     "cell_type": "markdown",
     "metadata": {},
     "source": [
      "### Python compared to other languages"
     ]
    },
    {
     "cell_type": "markdown",
     "metadata": {},
     "source": [
      "Lets make a simple program that **counts the number of adenine in a DNA sequence**. The rationale for this is not to understand all the different pieces of code but to see the difference in how the code is written.\n",
      "\n",
      "Here is an outline of what we want to do:\n",
      "<ol>\n",
      "    <li>Go through each nucleotide in a DNA sequence ACGAAGTCGAGG that we call \"dna_sequence\". </li>\n",
      "    <li>Ask if the current nucleotide is \"A\".</li>\n",
      "    <ul>\n",
      "        <li>If yes: Add 1 to a variable we call \"number_of_A\".</li>\n",
      "        <li>If no: Don't add anything.</li>\n",
      "    </ul>\n",
      "    <li>Continue to next nucleotide until the end of the sequence</li>\n",
      "    <li>Print the variable \"number_of_A\" to the screen</li>\n",
      "</ol>"
     ]
    },
    {
     "cell_type": "markdown",
     "metadata": {},
     "source": [
      "**In C:**"
     ]
    },
    {
     "cell_type": "markdown",
     "metadata": {},
     "source": [
      "While C is one of the fastest computer languages in terms of running time it has a rather steep learning curve for new comers and does not have many built in functionality."
     ]
    },
    {
     "cell_type": "raw",
     "metadata": {},
     "source": [
      "#include <stdio.h>\n",
      "#include <string.h>\n",
      "int main(){\n",
      "\tchar dna_sequence[] = \"ACGAAGTCGAGG\";\n",
      "\tint number_of_A = 0;\n",
      "\tfor (int i=0; i<strlen(dna_sequence); i++){\n",
      "\t\tnumber_of_A += dna_sequence[i] == 'A' ? 1 : 0;\n",
      "\t}\n",
      "\tprintf(\"%d\\n\", number_of_A);\n",
      "}"
     ]
    },
    {
     "cell_type": "markdown",
     "metadata": {},
     "source": [
      "**In perl:**"
     ]
    },
    {
     "cell_type": "markdown",
     "metadata": {},
     "source": [
      "Perl is excellent for making tools for life-science research, but like C it can be a little hard to read for new comers. "
     ]
    },
    {
     "cell_type": "raw",
     "metadata": {},
     "source": [
      "my $dna_sequence = \"ACGAAGTCGAGG\";\n",
      "my $number_of_A = 0;\n",
      "for (my $i = 0; $i < length($dna_sequence); $i++) {\n",
      "    $number_of_A += substr($dna_sequence,$i,1) eq 'A' ? 1 : 0;\n",
      "}\n",
      "print $number_of_A, \"\\n\";"
     ]
    },
    {
     "cell_type": "markdown",
     "metadata": {},
     "source": [
      "**In Python:**"
     ]
    },
    {
     "cell_type": "markdown",
     "metadata": {},
     "source": [
      "So far, you may not have understood the codes for counting adenine in a DNA sequence - that's okay. Try to read this piece of code out loud: "
     ]
    },
    {
     "cell_type": "raw",
     "metadata": {},
     "source": [
      "dna_sequence = \"ACGAAGTCGAGG\"\n",
      "number_of_A = 0\n",
      "for nucleotide in dna_sequence:\n",
      "    number_of_A += 1 if nucleotide == \"A\" else 0\n",
      "print number_of_A"
     ]
    },
    {
     "cell_type": "markdown",
     "metadata": {},
     "source": [
      "Actually in python we have many built in functions to help us along the way. This code does the same trick in just one line:"
     ]
    },
    {
     "cell_type": "code",
     "collapsed": false,
     "input": [
      "\"ACGAAGTCGAGG\".count(\"A\")"
     ],
     "language": "python",
     "metadata": {},
     "outputs": []
    },
    {
     "cell_type": "markdown",
     "metadata": {},
     "source": [
      "Again, don't worry if you don't understand the termology of the codes above. You will get your hands into it yourself later in the course. "
     ]
    },
    {
     "cell_type": "heading",
     "level": 3,
     "metadata": {},
     "source": [
      "Different usage of python"
     ]
    },
    {
     "cell_type": "markdown",
     "metadata": {},
     "source": [
      "#### Interactive mode (PROMPT):\n",
      "Allows you to get an immediate reply to each instructions"
     ]
    },
    {
     "cell_type": "code",
     "collapsed": false,
     "input": [
      "print \"hello world\""
     ],
     "language": "python",
     "metadata": {},
     "outputs": []
    },
    {
     "cell_type": "code",
     "collapsed": false,
     "input": [
      "#name = raw_input(\"Type your name: \")\n",
      "#print \"Your name is\", name, \"!\""
     ],
     "language": "python",
     "metadata": {},
     "outputs": []
    },
    {
     "cell_type": "markdown",
     "metadata": {},
     "source": [
      "####Batch mode (PROGRAM):\n",
      "Allows you to run a series of instructions before getting the output.\n",
      "\n",
      "Let's program a doorman in a file called doorman.py:"
     ]
    },
    {
     "cell_type": "code",
     "collapsed": true,
     "input": [
      "#!/usr/bin/python\n",
      "\n",
      "\"\"\" My first Python program \"\"\"\n",
      "\n",
      "# Get input from user:\n",
      "name = raw_input(\"Type your name: \")\n",
      "\n",
      "# Validate input\n",
      "pass\n",
      "\n",
      "guest_list = [\"John\", \"Charles\", \"Hans\"]\n",
      "\n",
      "if name in guest_list:\n",
      "    print \"Please enter \", name\n",
      "else:\n",
      "    print \"Your name is not on the guest list! Get lost!\""
     ],
     "language": "python",
     "metadata": {},
     "outputs": []
    },
    {
     "cell_type": "markdown",
     "metadata": {},
     "source": [
      "The above program can be run with either <cb>python doorman.py</cb> or simply <cb>./doorman.py</cb>"
     ]
    },
    {
     "cell_type": "markdown",
     "metadata": {},
     "source": [
      "## References\n",
      "\n",
      "S. Bassi, Python for Bioinformatics, Chapter 1-3.\n",
      "\n",
      "P. Barry, Head First: Python, Chapter 1.\n",
      "\n",
      "M. Model, Bioinformatics Programming Using Python, Chapter 1 and 3.\n",
      "\n",
      "J.R. Johansson (robert@riken.jp) http://dml.riken.jp/~rob/ <br>\n",
      "\n",
      "[http://github.com/jrjohansson/scientific-python-lectures](http://github.com/jrjohansson/scientific-python-lectures)"
     ]
    },
    {
     "cell_type": "markdown",
     "metadata": {},
     "source": [
      "## Markup and styles"
     ]
    },
    {
     "cell_type": "code",
     "collapsed": false,
     "input": [
      "from IPython.core.display import HTML\n",
      "\n",
      "\n",
      "def css_styling():\n",
      "    styles = open(\"../styles/custom.css\", \"r\").read()\n",
      "    return HTML(styles)\n",
      "css_styling()"
     ],
     "language": "python",
     "metadata": {},
     "outputs": [
      {
       "html": [
        "<style>\n",
        "    div.cell{\n",
        "        width:800px;\n",
        "        margin-left:16% !important;\n",
        "        margin-right:auto;\n",
        "    }\n",
        "    div.text_cell_render{\n",
        "        font-family: \"Helvetica Neue\", Arial, Helvetica, Geneva, sans-serif;\n",
        "        line-height: 145%;\n",
        "        font-size: 110%;\n",
        "        width:800px;\n",
        "        margin-left:auto;\n",
        "        margin-right:auto;\n",
        "    }\n",
        "    .CodeMirror{\n",
        "            font-family: \"Source Code Pro\", source-code-pro,Consolas, monospace;\n",
        "    }\n",
        "    .prompt{\n",
        "        display: None;\n",
        "    }\n",
        "    .text_cell_render h1 {\n",
        "        font-family: Helvetica, serif;\n",
        "        font-size: 30pt;\n",
        "        color: #274257;\n",
        "        text-transform: uppercase;\n",
        "    }\n",
        "    .text_cell_render h2 {\n",
        "        font-family: Helvetica, serif;\n",
        "        font-size: 24pt;\n",
        "        color: #2A75A9;\n",
        "    }\n",
        "    .text_cell_render h3{\n",
        "        font-family: Helvetica, serif;\n",
        "        font-size: 18pt;\n",
        "        color: #7EB5D6;\n",
        "       }\n",
        "    .text_cell_render h5 {\n",
        "        font-weight: 300;\n",
        "        font-size: 22pt;\n",
        "        color: #4057A1;\n",
        "        font-style: italic;\n",
        "        margin-bottom: .5em;\n",
        "        margin-top: 0.5em;\n",
        "        display: block;\n",
        "    }\n",
        "    \n",
        "    .warning{\n",
        "        color: rgb( 240, 20, 20 )\n",
        "        } \n",
        "    .wds {\n",
        "        background: none repeat scroll 0% 0% rgb(247, 247, 247);\n",
        "        padding: 0em 0em;\n",
        "        font-size: 11px;\n",
        "        font-family: Arial,Helvetica,sans-serif;\n",
        "        display: inline-block;\n",
        "        margin: 0px 0em;\n",
        "        white-space: nowrap;\n",
        "    }\n",
        "    cb {\n",
        "        background: none repeat scroll 0% 0% rgb(247, 247, 247);\n",
        "        padding: 0.1em 0.6em;\n",
        "        border: 1px solid rgb(204, 204, 204);\n",
        "        font-size: 14px;\n",
        "        font-family: \"Courier New\", Courier, monospace;\n",
        "        color: rgb(41, 41, 41);\n",
        "        box-shadow: 0px 1px 0px rgba(0, 0, 0, 0.2), 0px 0px 0px 2px rgb(255, 255, 255) inset;\n",
        "        border-radius: 3px 3px 3px 3px;\n",
        "        display: inline-block;\n",
        "        margin: 0px 0.1em;\n",
        "        line-height: 1.4;\n",
        "        white-space: nowrap;\n",
        "    }\n",
        "    kbd {\n",
        "        background: none repeat scroll 0% 0% rgb(247, 247, 247);\n",
        "        padding: 0.1em 0.6em;\n",
        "        border: 1px solid rgb(204, 204, 204);\n",
        "        font-size: 11px;\n",
        "        font-family: Arial,Helvetica,sans-serif;\n",
        "        color: rgb(51, 51, 51);\n",
        "        box-shadow: 0px 1px 0px rgba(0, 0, 0, 0.2), 0px 0px 0px 2px rgb(255, 255, 255) inset;\n",
        "        border-radius: 3px 3px 3px 3px;\n",
        "        display: inline-block;\n",
        "        margin: 0px 0.1em;\n",
        "        text-shadow: 0px 1px 0px rgb(255, 255, 255);\n",
        "        line-height: 1.4;\n",
        "        white-space: nowrap;\n",
        "    }\n",
        "    ol {\n",
        "        list-style-type: decimal;\n",
        "    }\n",
        "\n",
        "</style>\n",
        "<script>\n",
        "    MathJax.Hub.Config({\n",
        "                        TeX: {\n",
        "                           extensions: [\"AMSmath.js\"]\n",
        "                           },\n",
        "                tex2jax: {\n",
        "                    inlineMath: [ ['$','$'], [\"\\\\(\",\"\\\\)\"] ],\n",
        "                    displayMath: [ ['$$','$$'], [\"\\\\[\",\"\\\\]\"] ]\n",
        "                },\n",
        "                displayAlign: 'center', // Change this to 'center' to center equations.\n",
        "                \"HTML-CSS\": {\n",
        "                    styles: {'.MathJax_Display': {\"margin\": 4}}\n",
        "                }\n",
        "        });\n",
        "</script>\n"
       ],
       "output_type": "pyout",
       "prompt_number": 7,
       "text": [
        "<IPython.core.display.HTML at 0x3336a90>"
       ]
      }
     ],
     "prompt_number": 7
    },
    {
     "cell_type": "code",
     "collapsed": false,
     "input": [],
     "language": "python",
     "metadata": {},
     "outputs": []
    }
   ],
   "metadata": {}
  }
 ]
}