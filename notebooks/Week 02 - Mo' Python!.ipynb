{
 "metadata": {
  "name": "Week 02 - Mo' Python!"
 },
 "nbformat": 3,
 "nbformat_minor": 0,
 "worksheets": [
  {
   "cells": [
    {
     "cell_type": "markdown",
     "metadata": {},
     "source": [
      "# Data types\n",
      "Python has its own characteristic data types"
     ]
    },
    {
     "cell_type": "markdown",
     "metadata": {},
     "source": [
      "### Numbers\n",
      "Like most other computer languages Python has several types of numbers. Number data types store numeric values. They are immutable data types, which means that changing the value of a number data type results in a newly created object.\n"
     ]
    },
    {
     "cell_type": "code",
     "collapsed": false,
     "input": [
      "A = 10\n",
      "B = 2"
     ],
     "language": "python",
     "metadata": {},
     "outputs": [],
     "prompt_number": 11
    },
    {
     "cell_type": "markdown",
     "metadata": {},
     "source": [
      "<ul style=\"width: 600px;\">\n",
      "    <li><b>integers:</b> often called just ints, are positive or negative whole numbers with no decimal point. </li>\n",
      "    <li><b>long:</b> are integers of unlimited size, written like integers and followed by an uppercase or lowercase L</li>\n",
      "    <li><b>floats:</b> represent real numbers and are written with a decimal point dividing the integer and fractional parts. Floats may also be in scientific notation, with E or e indicating the power of 10 (2.5E2 = 2.5 x 10<sup>2</sup> = 250)</li>\n",
      "    <li><b>complex:</b> are of the form <cb>a + bJ</cb>, where a and b are floats and J is an imaginary number. Complex numbers are not used much in Python programming.</li>\n",
      "</ul>\n"
     ]
    },
    {
     "cell_type": "code",
     "collapsed": false,
     "input": [
      "A = 10      # int\n",
      "B = 20131L  # long\n",
      "C = 3.14    # float\n",
      "D = 3.14j   # complex"
     ],
     "language": "python",
     "metadata": {},
     "outputs": [],
     "prompt_number": 17
    },
    {
     "cell_type": "markdown",
     "metadata": {},
     "source": [
      "####Number Operations:"
     ]
    },
    {
     "cell_type": "code",
     "collapsed": false,
     "input": [
      "# DATA\n",
      "A = 10\n",
      "B = 4\n",
      "C = -3.14\n",
      "D = -3.99\n",
      "\n",
      "# OPERATIONS\n",
      "print \"A + B =\\t\\t\", A + B\n",
      "print \"A - B =\\t\\t\", A - B\n",
      "print \"A * B =\\t\\t\", A * B\n",
      "print \"A / B =\\t\\t\", A / B, \" <--- Does not make the result a float when using integers\"\n",
      "print \"A / C =\\t\\t\", A / C\n",
      "print \"A // B =\\t\", A // B\n",
      "print \"A % B =\\t\\t\", A % B\n",
      "print \"-A =\\t\\t\", -A\n",
      "print \"abs(C) =\\t\", abs(C)\n",
      "print \"int(C) =\\t\", int(C)\n",
      "print \"int(D) =\\t\", int(D), \" <--- Does not round to nearest integer\"\n",
      "print \"long(D) =\\t\", long(D)\n",
      "print \"float(A) =\\t\", float(A)\n",
      "print \"float(A) / B =\\t\", float(A) / B, \" <--- Always use this when dividing integers\"\n",
      "print \"pow(A, 2) =\\t\", pow(A,2)\n",
      "print \"A**2 =\\t\\t\", A**2"
     ],
     "language": "python",
     "metadata": {},
     "outputs": [
      {
       "output_type": "stream",
       "stream": "stdout",
       "text": [
        "A + B =\t\t14\n",
        "A - B =\t\t6\n",
        "A * B =\t\t40\n",
        "A / B =\t\t2  <--- Does not make the result a float when using integers\n",
        "A / C =\t\t-3.1847133758\n",
        "A // B =\t2\n",
        "A % B =\t\t2\n",
        "-A =\t\t-10\n",
        "abs(C) =\t3.14\n",
        "int(C) =\t-3\n",
        "int(D) =\t-3  <--- Does not round to nearest integer\n",
        "long(D) =\t-3\n",
        "float(A) =\t10.0\n",
        "float(A) / B =\t2.5  <--- Always use this when dividing integers\n",
        "pow(A, 2) =\t100\n",
        "A**2 =\t\t100\n"
       ]
      }
     ],
     "prompt_number": 49
    },
    {
     "cell_type": "markdown",
     "metadata": {},
     "source": [
      "## SEQUENCES:"
     ]
    },
    {
     "cell_type": "markdown",
     "metadata": {},
     "source": [
      "In Python the word *sequence* refer to an ordered collection of items. We will take a look at them all:\n",
      "<ul>\n",
      "    <li>Strings</li>\n",
      "    <li>Lists</li>\n",
      "    <li>Tuples</li>\n",
      "</ul>"
     ]
    },
    {
     "cell_type": "markdown",
     "metadata": {},
     "source": [
      "### Strings\n",
      "Strings are amongst the most popular types in Python. We can create them simply by enclosing characters in quotes. Python treats single quotes the same as double quotes."
     ]
    },
    {
     "cell_type": "code",
     "collapsed": false,
     "input": [
      "print \"This is a string\"\n",
      "print 'This is a string'\n",
      "print '''This is a string'''\n",
      "print \"\"\"This is a string\"\"\""
     ],
     "language": "python",
     "metadata": {},
     "outputs": [
      {
       "output_type": "stream",
       "stream": "stdout",
       "text": [
        "This is a string\n",
        "This is a string\n",
        "This is a string\n",
        "This is a string\n"
       ]
      }
     ],
     "prompt_number": 5
    },
    {
     "cell_type": "code",
     "collapsed": false,
     "input": [
      "print \"A single quote (') inside double quotes\"\n",
      "print 'Here we have \"double quotes\" inside single quotes'"
     ],
     "language": "python",
     "metadata": {},
     "outputs": [
      {
       "output_type": "stream",
       "stream": "stdout",
       "text": [
        "A single quote (') inside double quotes\n",
        "Here we have \"double quotes\" inside single quotes\n"
       ]
      }
     ],
     "prompt_number": 50
    },
    {
     "cell_type": "markdown",
     "metadata": {},
     "source": [
      "####Modifying strings\n",
      "\n",
      "You can apply some of the same \"math\" operations on strings:"
     ]
    },
    {
     "cell_type": "code",
     "collapsed": false,
     "input": [
      "A = \"ACGTGA\"\n",
      "B = \"TATAA\""
     ],
     "language": "python",
     "metadata": {},
     "outputs": [],
     "prompt_number": 106
    },
    {
     "cell_type": "code",
     "collapsed": false,
     "input": [
      "A + B"
     ],
     "language": "python",
     "metadata": {},
     "outputs": [
      {
       "output_type": "pyout",
       "prompt_number": 107,
       "text": [
        "'ACGTGATATAA'"
       ]
      }
     ],
     "prompt_number": 107
    },
    {
     "cell_type": "code",
     "collapsed": false,
     "input": [
      "B * 5"
     ],
     "language": "python",
     "metadata": {},
     "outputs": [
      {
       "output_type": "pyout",
       "prompt_number": 110,
       "text": [
        "'TATAATATAATATAATATAATATAA'"
       ]
      }
     ],
     "prompt_number": 110
    },
    {
     "cell_type": "markdown",
     "metadata": {},
     "source": [
      "Strings are immutable -- once we have created it, we can't change it."
     ]
    },
    {
     "cell_type": "code",
     "collapsed": false,
     "input": [
      "A = \"acgctAGACGT\"\n",
      "A.upper() # Returns the uppercase string"
     ],
     "language": "python",
     "metadata": {},
     "outputs": [
      {
       "output_type": "pyout",
       "prompt_number": 112,
       "text": [
        "'ACGCTAGACGT'"
       ]
      }
     ],
     "prompt_number": 112
    },
    {
     "cell_type": "code",
     "collapsed": false,
     "input": [
      "print A"
     ],
     "language": "python",
     "metadata": {},
     "outputs": [
      {
       "output_type": "stream",
       "stream": "stdout",
       "text": [
        "acgctAGACGT\n"
       ]
      }
     ],
     "prompt_number": 114
    },
    {
     "cell_type": "markdown",
     "metadata": {},
     "source": [
      "Our string is unchanged. :-/"
     ]
    },
    {
     "cell_type": "markdown",
     "metadata": {},
     "source": [
      "To actually change the string we must reassign it. "
     ]
    },
    {
     "cell_type": "code",
     "collapsed": false,
     "input": [
      "B = A.upper()\n",
      "print \"A is\", A\n",
      "print \"B is\", B"
     ],
     "language": "python",
     "metadata": {},
     "outputs": [
      {
       "output_type": "stream",
       "stream": "stdout",
       "text": [
        "A is acgctAGACGT\n",
        "B is ACGCTAGACGT\n"
       ]
      }
     ],
     "prompt_number": 71
    },
    {
     "cell_type": "markdown",
     "metadata": {},
     "source": [
      "Or reassign to the name A to change the string."
     ]
    },
    {
     "cell_type": "code",
     "collapsed": false,
     "input": [
      "A = A.upper()\n",
      "print A"
     ],
     "language": "python",
     "metadata": {},
     "outputs": [
      {
       "output_type": "stream",
       "stream": "stdout",
       "text": [
        "ACGCTAGACGT\n"
       ]
      }
     ],
     "prompt_number": 72
    },
    {
     "cell_type": "markdown",
     "metadata": {},
     "source": [
      "Some other string manipulations:"
     ]
    },
    {
     "cell_type": "code",
     "collapsed": false,
     "input": [
      "B = \"a,bunch,of,words\"\n",
      "print B.split(\",\")"
     ],
     "language": "python",
     "metadata": {},
     "outputs": [
      {
       "output_type": "stream",
       "stream": "stdout",
       "text": [
        "['a', 'bunch', 'of', 'words']\n"
       ]
      }
     ],
     "prompt_number": 95
    },
    {
     "cell_type": "code",
     "collapsed": false,
     "input": [
      "B = [\"a\", \"bunch\", \"of\", \"words\", \"in\", \"a\", \"list\", \"object\"]\n",
      "print \" \".join(B)\n",
      "print \"_\".join(B)"
     ],
     "language": "python",
     "metadata": {},
     "outputs": [
      {
       "output_type": "stream",
       "stream": "stdout",
       "text": [
        "a bunch of words in a list object\n",
        "a_bunch_of_words_in_a_list_object\n"
       ]
      }
     ],
     "prompt_number": 101
    },
    {
     "cell_type": "markdown",
     "metadata": {},
     "source": [
      "### Lists"
     ]
    },
    {
     "cell_type": "markdown",
     "metadata": {},
     "source": [
      "#### Making lists"
     ]
    },
    {
     "cell_type": "markdown",
     "metadata": {},
     "source": [
      "Lists are like arrays in other programming languages. It is essentially a stack of data items. Unlike strings (stack of characters), lists are collections that you can actually change.\n",
      "\n",
      "Lets say you want to make a list of your movies:\n",
      "\n",
      "<ul>\n",
      "    <li>The Meaning of Life</li>\n",
      "    <li>The Life of Brian</li>\n",
      "    <li>The Holy Grail</li>\n",
      "</ul>\n",
      "\n",
      "In python, this is done using brackets **[ ]**"
     ]
    },
    {
     "cell_type": "code",
     "collapsed": false,
     "input": [
      "movies = [\"The Holy Grail\", \"The Life of Brian\", \"The Holy Grail\"]"
     ],
     "language": "python",
     "metadata": {},
     "outputs": [],
     "prompt_number": 57
    },
    {
     "cell_type": "markdown",
     "metadata": {},
     "source": [
      "#### Reading from lists"
     ]
    },
    {
     "cell_type": "code",
     "collapsed": false,
     "input": [
      "print movies"
     ],
     "language": "python",
     "metadata": {},
     "outputs": [
      {
       "output_type": "stream",
       "stream": "stdout",
       "text": [
        "['The Holy Grail', 'The Life of Brian', 'The Holy Grail']\n"
       ]
      }
     ],
     "prompt_number": 58
    },
    {
     "cell_type": "markdown",
     "metadata": {},
     "source": [
      "We can also use this brackets afterwards to access just a single item in the list:"
     ]
    },
    {
     "cell_type": "code",
     "collapsed": false,
     "input": [
      "movies[1]"
     ],
     "language": "python",
     "metadata": {},
     "outputs": [
      {
       "output_type": "pyout",
       "prompt_number": 59,
       "text": [
        "'The Life of Brian'"
       ]
      }
     ],
     "prompt_number": 59
    },
    {
     "cell_type": "markdown",
     "metadata": {},
     "source": [
      "movies[1] didn't give us the first item in the list as you would expect, but the second. Lists in python starts with [0] and the last item in the movie list is therefore [2]. The string <cb>Python</cb> will have the following indices:"
     ]
    },
    {
     "cell_type": "markdown",
     "metadata": {},
     "source": [
      "<img src=\"http://www.python-course.eu/images/string_indices.gif\" />"
     ]
    },
    {
     "cell_type": "code",
     "collapsed": false,
     "input": [
      "print movies[0]\n",
      "print movies[1]\n",
      "print movies[2]"
     ],
     "language": "python",
     "metadata": {},
     "outputs": [
      {
       "output_type": "stream",
       "stream": "stdout",
       "text": [
        "The Holy Grail\n",
        "The Life of Brian\n",
        "The Holy Grail\n"
       ]
      }
     ],
     "prompt_number": 60
    },
    {
     "cell_type": "code",
     "collapsed": false,
     "input": [
      "print movies[3] # will give an index error"
     ],
     "language": "python",
     "metadata": {},
     "outputs": [
      {
       "ename": "IndexError",
       "evalue": "list index out of range",
       "output_type": "pyerr",
       "traceback": [
        "\u001b[0;31m---------------------------------------------------------------------------\u001b[0m\n\u001b[0;31mIndexError\u001b[0m                                Traceback (most recent call last)",
        "\u001b[0;32m<ipython-input-61-b30b042a6c22>\u001b[0m in \u001b[0;36m<module>\u001b[0;34m()\u001b[0m\n\u001b[0;32m----> 1\u001b[0;31m \u001b[0;32mprint\u001b[0m \u001b[0mmovies\u001b[0m\u001b[0;34m[\u001b[0m\u001b[0;36m3\u001b[0m\u001b[0;34m]\u001b[0m \u001b[0;31m# will give an index error\u001b[0m\u001b[0;34m\u001b[0m\u001b[0m\n\u001b[0m",
        "\u001b[0;31mIndexError\u001b[0m: list index out of range"
       ]
      }
     ],
     "prompt_number": 61
    },
    {
     "cell_type": "markdown",
     "metadata": {},
     "source": [
      "You can check how many items are in the movie collection using <cb>len(movies)</cb>"
     ]
    },
    {
     "cell_type": "code",
     "collapsed": false,
     "input": [
      "len(movies)"
     ],
     "language": "python",
     "metadata": {},
     "outputs": [
      {
       "output_type": "pyout",
       "prompt_number": 62,
       "text": [
        "3"
       ]
      }
     ],
     "prompt_number": 62
    },
    {
     "cell_type": "markdown",
     "metadata": {},
     "source": [
      "#### Adding more data to the list"
     ]
    },
    {
     "cell_type": "markdown",
     "metadata": {},
     "source": [
      "If you want to **add** just another item to the list (appending) you can do this by <cb>movies.append(\"Die Hard\")</cb>"
     ]
    },
    {
     "cell_type": "code",
     "collapsed": false,
     "input": [
      "movies.append(\"Die Hard\")"
     ],
     "language": "python",
     "metadata": {},
     "outputs": [],
     "prompt_number": 63
    },
    {
     "cell_type": "markdown",
     "metadata": {},
     "source": [
      "Printing the list now gives"
     ]
    },
    {
     "cell_type": "code",
     "collapsed": false,
     "input": [
      "print movies"
     ],
     "language": "python",
     "metadata": {},
     "outputs": [
      {
       "output_type": "stream",
       "stream": "stdout",
       "text": [
        "['The Holy Grail', 'The Life of Brian', 'The Holy Grail', 'Die Hard']\n"
       ]
      }
     ],
     "prompt_number": 64
    },
    {
     "cell_type": "markdown",
     "metadata": {},
     "source": [
      "To **insert** an item into a specific position of the list you can use <cb>movies.insert(3, \"something\")"
     ]
    },
    {
     "cell_type": "code",
     "collapsed": false,
     "input": [
      "movies.insert(3, \"Twilight\")\n",
      "print movies"
     ],
     "language": "python",
     "metadata": {},
     "outputs": [
      {
       "output_type": "stream",
       "stream": "stdout",
       "text": [
        "['The Holy Grail', 'The Life of Brian', 'The Holy Grail', 'Twilight', 'Die Hard']\n"
       ]
      }
     ],
     "prompt_number": 65
    },
    {
     "cell_type": "markdown",
     "metadata": {},
     "source": [
      "Appending and inserting only works with a single item. You can also **extend** the list with another list using <cb>movies.extend(newlist)</cb>"
     ]
    },
    {
     "cell_type": "code",
     "collapsed": false,
     "input": [
      "newmovies = [\"The Dark Knight Rises\", \"Django Unchained\", \"The Avengers\"]\n",
      "movies.extend(newmovies)"
     ],
     "language": "python",
     "metadata": {},
     "outputs": [],
     "prompt_number": 66
    },
    {
     "cell_type": "code",
     "collapsed": false,
     "input": [
      "print movies"
     ],
     "language": "python",
     "metadata": {},
     "outputs": [
      {
       "output_type": "stream",
       "stream": "stdout",
       "text": [
        "['The Holy Grail', 'The Life of Brian', 'The Holy Grail', 'Twilight', 'Die Hard', 'The Dark Knight Rises', 'Django Unchained', 'The Avengers']\n"
       ]
      }
     ],
     "prompt_number": 67
    },
    {
     "cell_type": "markdown",
     "metadata": {},
     "source": [
      "#### Deleting items from list"
     ]
    },
    {
     "cell_type": "markdown",
     "metadata": {},
     "source": [
      "Of course you can **remove** an element again from the collection of favorite movies by either <cb>movies.pop(3)</cb> or <cb>movies.remove(\"Twilight\")</cb>"
     ]
    },
    {
     "cell_type": "code",
     "collapsed": false,
     "input": [
      "movies.remove(\"Twilight\")\n",
      "print movies"
     ],
     "language": "python",
     "metadata": {},
     "outputs": [
      {
       "output_type": "stream",
       "stream": "stdout",
       "text": [
        "['The Holy Grail', 'The Life of Brian', 'The Holy Grail', 'Die Hard', 'The Dark Knight Rises', 'Django Unchained', 'The Avengers']\n"
       ]
      }
     ],
     "prompt_number": 68
    },
    {
     "cell_type": "markdown",
     "metadata": {},
     "source": [
      "Using <cb>movies.pop()</cb> without any paramter just removes the last element. Additionally the function <cb>.pop()</cb> also returns this element where it was called:"
     ]
    },
    {
     "cell_type": "code",
     "collapsed": false,
     "input": [
      "movies.pop()"
     ],
     "language": "python",
     "metadata": {},
     "outputs": [
      {
       "output_type": "pyout",
       "prompt_number": 69,
       "text": [
        "'The Avengers'"
       ]
      }
     ],
     "prompt_number": 69
    },
    {
     "cell_type": "code",
     "collapsed": false,
     "input": [
      "print movies"
     ],
     "language": "python",
     "metadata": {},
     "outputs": [
      {
       "output_type": "stream",
       "stream": "stdout",
       "text": [
        "['The Holy Grail', 'The Life of Brian', 'The Holy Grail', 'Die Hard', 'The Dark Knight Rises', 'Django Unchained']\n"
       ]
      }
     ],
     "prompt_number": 70
    },
    {
     "cell_type": "code",
     "collapsed": false,
     "input": [
      "del movies[2] # also works\n",
      "print movies"
     ],
     "language": "python",
     "metadata": {},
     "outputs": [
      {
       "output_type": "stream",
       "stream": "stdout",
       "text": [
        "['The Holy Grail', 'The Life of Brian', 'Die Hard', 'The Dark Knight Rises', 'Django Unchained']\n"
       ]
      }
     ],
     "prompt_number": 71
    },
    {
     "cell_type": "markdown",
     "metadata": {},
     "source": [
      "### Tuples"
     ]
    },
    {
     "cell_type": "markdown",
     "metadata": {},
     "source": [
      "Tuples are like lists - but once you have created it, you can't change it. "
     ]
    },
    {
     "cell_type": "code",
     "collapsed": false,
     "input": [
      "mytuble = (1,2,3,4)"
     ],
     "language": "python",
     "metadata": {},
     "outputs": [],
     "prompt_number": 76
    },
    {
     "cell_type": "markdown",
     "metadata": {},
     "source": [
      "Since they have a **fixed size** you generally use them as structures for some data, like coordinates (x,y). \n",
      "\n",
      "**Example**: Say you go for a walk at DTU campus and note your GPS coordinates at any instant in a tuple (x,y) called <cb>current_coordinate</cb>. While walking you record your journey in a list called <cb>journey</cb>, so you can trace your route at a later point."
     ]
    },
    {
     "cell_type": "code",
     "collapsed": true,
     "input": [
      "journey = [] # empty list\n",
      "while walking:\n",
      "    current_coordinate = (x,y)\n",
      "    journey.append(coordinate)\n",
      "# This code won't run, because we don't know the coordinates \"x\" and \"y\" and when to stop \"walking\".\n",
      "# But it illustrates the idea of tuples used as coordinates and lists used as records."
     ],
     "language": "python",
     "metadata": {},
     "outputs": [
      {
       "ename": "NameError",
       "evalue": "name 'walking' is not defined",
       "output_type": "pyerr",
       "traceback": [
        "\u001b[0;31m---------------------------------------------------------------------------\u001b[0m\n\u001b[0;31mNameError\u001b[0m                                 Traceback (most recent call last)",
        "\u001b[0;32m<ipython-input-79-2574f74ca4a4>\u001b[0m in \u001b[0;36m<module>\u001b[0;34m()\u001b[0m\n\u001b[1;32m      1\u001b[0m \u001b[0mjourney\u001b[0m \u001b[0;34m=\u001b[0m \u001b[0;34m[\u001b[0m\u001b[0;34m]\u001b[0m \u001b[0;31m# empty list\u001b[0m\u001b[0;34m\u001b[0m\u001b[0m\n\u001b[0;32m----> 2\u001b[0;31m \u001b[0;32mwhile\u001b[0m \u001b[0mwalking\u001b[0m\u001b[0;34m:\u001b[0m\u001b[0;34m\u001b[0m\u001b[0m\n\u001b[0m\u001b[1;32m      3\u001b[0m     \u001b[0mcurrent_coordinate\u001b[0m \u001b[0;34m=\u001b[0m \u001b[0;34m(\u001b[0m\u001b[0mx\u001b[0m\u001b[0;34m,\u001b[0m\u001b[0my\u001b[0m\u001b[0;34m)\u001b[0m\u001b[0;34m\u001b[0m\u001b[0m\n\u001b[1;32m      4\u001b[0m     \u001b[0mjourney\u001b[0m\u001b[0;34m.\u001b[0m\u001b[0mappend\u001b[0m\u001b[0;34m(\u001b[0m\u001b[0mcoordinate\u001b[0m\u001b[0;34m)\u001b[0m\u001b[0;34m\u001b[0m\u001b[0m\n\u001b[1;32m      5\u001b[0m \u001b[0;31m# This code won't run, because we don't know the coordinates \"x\" and \"y\" and when to stop \"walking\".\u001b[0m\u001b[0;34m\u001b[0m\u001b[0;34m\u001b[0m\u001b[0m\n",
        "\u001b[0;31mNameError\u001b[0m: name 'walking' is not defined"
       ]
      }
     ],
     "prompt_number": 79
    },
    {
     "cell_type": "markdown",
     "metadata": {},
     "source": [
      "After a short walk your <cb>journey</cb> would look something like this:"
     ]
    },
    {
     "cell_type": "code",
     "collapsed": false,
     "input": [
      "[\n",
      "   (55.787159, 12.518814),\n",
      "   (55.787033, 12.519661),\n",
      "   (55.786761, 12.521485),\n",
      "   (55.787582, 12.522022),\n",
      "   (55.787889, 12.520208),\n",
      "   (55.787159, 12.518814)\n",
      "];"
     ],
     "language": "python",
     "metadata": {},
     "outputs": [],
     "prompt_number": 84
    },
    {
     "cell_type": "markdown",
     "metadata": {},
     "source": [
      "This cannot be done in the opposite way! \n",
      "\n",
      "Tuples are in general more memory efficient than lists but accessing data items from list and tuples are equally fast."
     ]
    },
    {
     "cell_type": "markdown",
     "metadata": {},
     "source": [
      "## Python and memory management\n",
      "\n",
      "Without going into too much detail I feel it is import to know a little bit about what is going on in the engine room of the Python language. \n",
      "\n",
      "### Memory handling and life science research\n",
      "\n",
      "In life science you come across a great deal of data types. What changes the way you should handle it primarily the size:\n",
      "\n",
      "<table>\n",
      "    <tr><td><b>Data type</b></td><td><b>Size of data</b></td></tr>\n",
      "    <tr><td>Fluorescence spectroscopy</td><td>0.1 - 10 MB</td></tr>\n",
      "    <tr><td>Flow cytometry</td><td>50 - 200 MB</td></tr>\n",
      "    <tr><td>Mass Spectrometry</td><td>100 MB - 10 GB</td></tr>\n",
      "    <tr><td>NGS data</td><td>2 GB - TB</td></tr>\n",
      "</table>"
     ]
    },
    {
     "cell_type": "code",
     "collapsed": false,
     "input": [],
     "language": "python",
     "metadata": {},
     "outputs": []
    },
    {
     "cell_type": "code",
     "collapsed": false,
     "input": [],
     "language": "python",
     "metadata": {},
     "outputs": []
    },
    {
     "cell_type": "code",
     "collapsed": false,
     "input": [],
     "language": "python",
     "metadata": {},
     "outputs": []
    },
    {
     "cell_type": "code",
     "collapsed": false,
     "input": [
      "from IPython.core.display import HTML\n",
      "\n",
      "\n",
      "def css_styling():\n",
      "    styles = open(\"../styles/custom.css\", \"r\").read()\n",
      "    return HTML(styles)\n",
      "css_styling()"
     ],
     "language": "python",
     "metadata": {},
     "outputs": [
      {
       "html": [
        "<style>\n",
        "    div.cell{\n",
        "        width:800px;\n",
        "        margin-left:16% !important;\n",
        "        margin-right:auto;\n",
        "    }\n",
        "    div.text_cell_render{\n",
        "        font-family: \"Helvetica Neue\", Arial, Helvetica, Geneva, sans-serif;\n",
        "        line-height: 145%;\n",
        "        font-size: 110%;\n",
        "        width:800px;\n",
        "        margin-left:auto;\n",
        "        margin-right:auto;\n",
        "    }\n",
        "    .CodeMirror{\n",
        "            font-family: \"Source Code Pro\", source-code-pro,Consolas, monospace;\n",
        "    }\n",
        "    .prompt{\n",
        "        display: None;\n",
        "    }\n",
        "    .text_cell_render h1 {\n",
        "        font-family: Helvetica, serif;\n",
        "        font-size: 30pt;\n",
        "        color: #274257;\n",
        "        text-transform: uppercase;\n",
        "    }\n",
        "    .text_cell_render h2 {\n",
        "        font-family: Helvetica, serif;\n",
        "        font-size: 24pt;\n",
        "        color: #2A75A9;\n",
        "    }\n",
        "    .text_cell_render h3{\n",
        "        font-family: Helvetica, serif;\n",
        "        font-size: 18pt;\n",
        "        color: #7EB5D6;\n",
        "       }\n",
        "    .text_cell_render h5 {\n",
        "        font-weight: 300;\n",
        "        font-size: 22pt;\n",
        "        color: #4057A1;\n",
        "        font-style: italic;\n",
        "        margin-bottom: .5em;\n",
        "        margin-top: 0.5em;\n",
        "        display: block;\n",
        "    }\n",
        "    \n",
        "    .warning{\n",
        "        color: rgb( 240, 20, 20 )\n",
        "        } \n",
        "    .wds {\n",
        "        background: none repeat scroll 0% 0% rgb(247, 247, 247);\n",
        "        padding: 0em 0em;\n",
        "        font-size: 11px;\n",
        "        font-family: Arial,Helvetica,sans-serif;\n",
        "        display: inline-block;\n",
        "        margin: 0px 0em;\n",
        "        white-space: nowrap;\n",
        "    }\n",
        "    cb {\n",
        "        background: none repeat scroll 0% 0% rgb(247, 247, 247);\n",
        "        padding: 0.1em 0.6em;\n",
        "        border: 1px solid rgb(204, 204, 204);\n",
        "        font-size: 14px;\n",
        "        font-family: \"Courier New\", Courier, monospace;\n",
        "        color: rgb(41, 41, 41);\n",
        "        box-shadow: 0px 1px 0px rgba(0, 0, 0, 0.2), 0px 0px 0px 2px rgb(255, 255, 255) inset;\n",
        "        border-radius: 3px 3px 3px 3px;\n",
        "        display: inline-block;\n",
        "        margin: 0px 0.1em;\n",
        "        line-height: 1.4;\n",
        "        white-space: nowrap;\n",
        "    }\n",
        "    kbd {\n",
        "        background: none repeat scroll 0% 0% rgb(247, 247, 247);\n",
        "        padding: 0.1em 0.6em;\n",
        "        border: 1px solid rgb(204, 204, 204);\n",
        "        font-size: 11px;\n",
        "        font-family: Arial,Helvetica,sans-serif;\n",
        "        color: rgb(51, 51, 51);\n",
        "        box-shadow: 0px 1px 0px rgba(0, 0, 0, 0.2), 0px 0px 0px 2px rgb(255, 255, 255) inset;\n",
        "        border-radius: 3px 3px 3px 3px;\n",
        "        display: inline-block;\n",
        "        margin: 0px 0.1em;\n",
        "        text-shadow: 0px 1px 0px rgb(255, 255, 255);\n",
        "        line-height: 1.4;\n",
        "        white-space: nowrap;\n",
        "    }\n",
        "    ol {\n",
        "        list-style-type: decimal;\n",
        "    }\n",
        "\n",
        "</style>\n",
        "<script>\n",
        "    MathJax.Hub.Config({\n",
        "                        TeX: {\n",
        "                           extensions: [\"AMSmath.js\"]\n",
        "                           },\n",
        "                tex2jax: {\n",
        "                    inlineMath: [ ['$','$'], [\"\\\\(\",\"\\\\)\"] ],\n",
        "                    displayMath: [ ['$$','$$'], [\"\\\\[\",\"\\\\]\"] ]\n",
        "                },\n",
        "                displayAlign: 'center', // Change this to 'center' to center equations.\n",
        "                \"HTML-CSS\": {\n",
        "                    styles: {'.MathJax_Display': {\"margin\": 4}}\n",
        "                }\n",
        "        });\n",
        "</script>\n"
       ],
       "output_type": "pyout",
       "prompt_number": 72,
       "text": [
        "<IPython.core.display.HTML at 0x3b27a50>"
       ]
      }
     ],
     "prompt_number": 72
    },
    {
     "cell_type": "markdown",
     "metadata": {},
     "source": [
      "exercises, string manipulation:\n",
      "\n",
      "DNA_seq = \"ACGtgCgtCAATG\"\n",
      "count\n",
      "GC content\n",
      "replace\n",
      "find\n",
      "\n",
      "what is the difference between del, remove and pop of lists"
     ]
    },
    {
     "cell_type": "code",
     "collapsed": false,
     "input": [],
     "language": "python",
     "metadata": {},
     "outputs": [],
     "prompt_number": 115
    },
    {
     "cell_type": "code",
     "collapsed": false,
     "input": [],
     "language": "python",
     "metadata": {},
     "outputs": []
    }
   ],
   "metadata": {}
  }
 ]
}