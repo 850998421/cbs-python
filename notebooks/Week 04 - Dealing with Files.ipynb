{
 "metadata": {
  "name": "Week 04 - Dealing with Files"
 },
 "nbformat": 3,
 "nbformat_minor": 0,
 "worksheets": [
  {
   "cells": [
    {
     "cell_type": "code",
     "collapsed": false,
     "input": [],
     "language": "python",
     "metadata": {},
     "outputs": []
    }
   ],
   "metadata": {}
  }
 ]
}